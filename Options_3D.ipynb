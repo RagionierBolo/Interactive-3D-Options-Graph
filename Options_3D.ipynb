{
 "cells": [
  {
   "cell_type": "markdown",
   "metadata": {},
   "source": [
    "## Setup\n",
    "Group 1"
   ]
  },
  {
   "cell_type": "code",
   "execution_count": null,
   "metadata": {
    "notebookRunGroups": {
     "groupValue": "1"
    }
   },
   "outputs": [],
   "source": [
    "import matplotlib.pyplot as plt\n",
    "import yfinance as yf\n",
    "import ipywidgets as widgets"
   ]
  },
  {
   "cell_type": "code",
   "execution_count": null,
   "metadata": {
    "notebookRunGroups": {
     "groupValue": "1"
    }
   },
   "outputs": [],
   "source": [
    "op=widgets.RadioButtons(\n",
    "    options=[\"Calls\",\"Puts\"],\n",
    "    description='Type:',\n",
    "    disabled=False\n",
    ")\n",
    "\n",
    "tik=widgets.Text(\n",
    "    value='TSLA',\n",
    "    placeholder='Type the stock ticker',\n",
    "    description='Ticker:',\n",
    "    disabled=False   \n",
    ")\n",
    "widgets.VBox([tik,op])"
   ]
  },
  {
   "cell_type": "markdown",
   "metadata": {
    "notebookRunGroups": {
     "groupValue": "2"
    }
   },
   "source": [
    "After you selected what to plot you can execute group 2"
   ]
  },
  {
   "cell_type": "code",
   "execution_count": null,
   "metadata": {
    "notebookRunGroups": {
     "groupValue": "2"
    }
   },
   "outputs": [],
   "source": [
    "stock = yf.Ticker(tik.value)\n",
    "maturities=stock.options\n",
    "lengths=[] # Useful for debug\n",
    "options_l=[]\n",
    "\n",
    "if op.value==\"Calls\": # Calls\n",
    "    for dat in maturities:\n",
    "        opt =stock.option_chain(date=dat)\n",
    "        lengths.append(len(opt.calls))\n",
    "        options_l.append(opt.calls)\n",
    "elif op.value==\"Puts\": # Puts\n",
    "    for dat in maturities:\n",
    "        opt =stock.option_chain(date=dat)\n",
    "        lengths.append(len(opt.puts))\n",
    "        options_l.append(opt.puts)"
   ]
  },
  {
   "cell_type": "markdown",
   "metadata": {},
   "source": [
    "## Plot"
   ]
  },
  {
   "cell_type": "code",
   "execution_count": null,
   "metadata": {
    "notebookRunGroups": {
     "groupValue": "2"
    }
   },
   "outputs": [],
   "source": [
    "%matplotlib widget\n",
    "#fig = plt.figure(dpi=720)\n",
    "ax = plt.axes(projection='3d')\n",
    "lines=[]\n",
    "z=0\n",
    "for ca in options_l:\n",
    "    if len(ca)<100: # We don't consider maturities with extreme strikes\n",
    "        lin=ax.plot3D(xs=ca['strike'], ys=ca['bid'], zs=z)\n",
    "    z+=1\n",
    "\n",
    "ax.set_title(f\"{tik.value} {op.value}\")\n",
    "ax.set_xlabel('Strike')\n",
    "ax.set_ylabel('Bid')\n",
    "ax.set_zlabel('Maturity')\n",
    "ax.set_zticklabels(maturities);"
   ]
  }
 ],
 "metadata": {
  "kernelspec": {
   "display_name": "Python 3",
   "language": "python",
   "name": "python3"
  },
  "language_info": {
   "codemirror_mode": {
    "name": "ipython",
    "version": 3
   },
   "file_extension": ".py",
   "mimetype": "text/x-python",
   "name": "python",
   "nbconvert_exporter": "python",
   "pygments_lexer": "ipython3",
   "version": "3.10.11"
  },
  "orig_nbformat": 4,
  "vscode": {
   "interpreter": {
    "hash": "af0ab16044616bc8dd90ef0a5a09801e28dfb1184921c12dcba1c7fec46ee119"
   }
  }
 },
 "nbformat": 4,
 "nbformat_minor": 2
}
